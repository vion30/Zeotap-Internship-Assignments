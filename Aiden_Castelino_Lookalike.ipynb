{
 "cells": [
  {
   "cell_type": "markdown",
   "id": "939e1b59-9862-4c72-af1b-b9b58d1793cf",
   "metadata": {},
   "source": [
    "Lookalike Model \n",
    "Build a Lookalike Model that takes a user's information as input and recommends 3 similar \n",
    "customers based on their profile and transaction history. The model should: \n",
    "● Use both customer and product information. \n",
    "● Assign a similarity score to each recommended customer. \n",
    "Deliverables: \n",
    "● Give the top 3 lookalikes with there similarity scores for the first 20 customers \n",
    "(CustomerID: C0001 - C0020)  in Customers.csv. Form an “Lookalike.csv” which has \n",
    "just one map: Map<cust_id, List<cust_id, score>>   \n",
    "● A Jupyter Notebook/Python script explaining your model development."
   ]
  },
  {
   "cell_type": "code",
   "execution_count": 50,
   "id": "18225ff3-02e5-4c0d-866c-fca80d6126be",
   "metadata": {},
   "outputs": [],
   "source": [
    "import pandas as pd\n",
    "import numpy as np\n",
    "from sklearn.preprocessing import StandardScaler, OneHotEncoder\n",
    "from sklearn.metrics.pairwise import cosine_similarity\n",
    "from sklearn.compose import ColumnTransformer\n",
    "from sklearn.pipeline import Pipeline\n",
    "from sklearn.impute import SimpleImputer"
   ]
  },
  {
   "cell_type": "code",
   "execution_count": 52,
   "id": "8c6f7a7e-1135-41f4-b2c1-04bfdb9e4d86",
   "metadata": {},
   "outputs": [
    {
     "data": {
      "text/html": [
       "<div>\n",
       "<style scoped>\n",
       "    .dataframe tbody tr th:only-of-type {\n",
       "        vertical-align: middle;\n",
       "    }\n",
       "\n",
       "    .dataframe tbody tr th {\n",
       "        vertical-align: top;\n",
       "    }\n",
       "\n",
       "    .dataframe thead th {\n",
       "        text-align: right;\n",
       "    }\n",
       "</style>\n",
       "<table border=\"1\" class=\"dataframe\">\n",
       "  <thead>\n",
       "    <tr style=\"text-align: right;\">\n",
       "      <th></th>\n",
       "      <th>CustomerID</th>\n",
       "      <th>CustomerName</th>\n",
       "      <th>Region</th>\n",
       "      <th>SignupDate</th>\n",
       "    </tr>\n",
       "  </thead>\n",
       "  <tbody>\n",
       "    <tr>\n",
       "      <th>0</th>\n",
       "      <td>C0001</td>\n",
       "      <td>Lawrence Carroll</td>\n",
       "      <td>South America</td>\n",
       "      <td>2022-07-10</td>\n",
       "    </tr>\n",
       "    <tr>\n",
       "      <th>1</th>\n",
       "      <td>C0002</td>\n",
       "      <td>Elizabeth Lutz</td>\n",
       "      <td>Asia</td>\n",
       "      <td>2022-02-13</td>\n",
       "    </tr>\n",
       "    <tr>\n",
       "      <th>2</th>\n",
       "      <td>C0003</td>\n",
       "      <td>Michael Rivera</td>\n",
       "      <td>South America</td>\n",
       "      <td>2024-03-07</td>\n",
       "    </tr>\n",
       "    <tr>\n",
       "      <th>3</th>\n",
       "      <td>C0004</td>\n",
       "      <td>Kathleen Rodriguez</td>\n",
       "      <td>South America</td>\n",
       "      <td>2022-10-09</td>\n",
       "    </tr>\n",
       "    <tr>\n",
       "      <th>4</th>\n",
       "      <td>C0005</td>\n",
       "      <td>Laura Weber</td>\n",
       "      <td>Asia</td>\n",
       "      <td>2022-08-15</td>\n",
       "    </tr>\n",
       "  </tbody>\n",
       "</table>\n",
       "</div>"
      ],
      "text/plain": [
       "  CustomerID        CustomerName         Region  SignupDate\n",
       "0      C0001    Lawrence Carroll  South America  2022-07-10\n",
       "1      C0002      Elizabeth Lutz           Asia  2022-02-13\n",
       "2      C0003      Michael Rivera  South America  2024-03-07\n",
       "3      C0004  Kathleen Rodriguez  South America  2022-10-09\n",
       "4      C0005         Laura Weber           Asia  2022-08-15"
      ]
     },
     "execution_count": 52,
     "metadata": {},
     "output_type": "execute_result"
    }
   ],
   "source": [
    "customers = pd.read_csv(\"Customers.csv\")\n",
    "customers.head()"
   ]
  },
  {
   "cell_type": "code",
   "execution_count": 54,
   "id": "694848ec-6f40-40f5-aa9c-03d21a77ecd3",
   "metadata": {},
   "outputs": [
    {
     "data": {
      "text/html": [
       "<div>\n",
       "<style scoped>\n",
       "    .dataframe tbody tr th:only-of-type {\n",
       "        vertical-align: middle;\n",
       "    }\n",
       "\n",
       "    .dataframe tbody tr th {\n",
       "        vertical-align: top;\n",
       "    }\n",
       "\n",
       "    .dataframe thead th {\n",
       "        text-align: right;\n",
       "    }\n",
       "</style>\n",
       "<table border=\"1\" class=\"dataframe\">\n",
       "  <thead>\n",
       "    <tr style=\"text-align: right;\">\n",
       "      <th></th>\n",
       "      <th>ProductID</th>\n",
       "      <th>ProductName</th>\n",
       "      <th>Category</th>\n",
       "      <th>Price</th>\n",
       "    </tr>\n",
       "  </thead>\n",
       "  <tbody>\n",
       "    <tr>\n",
       "      <th>0</th>\n",
       "      <td>P001</td>\n",
       "      <td>ActiveWear Biography</td>\n",
       "      <td>Books</td>\n",
       "      <td>169.30</td>\n",
       "    </tr>\n",
       "    <tr>\n",
       "      <th>1</th>\n",
       "      <td>P002</td>\n",
       "      <td>ActiveWear Smartwatch</td>\n",
       "      <td>Electronics</td>\n",
       "      <td>346.30</td>\n",
       "    </tr>\n",
       "    <tr>\n",
       "      <th>2</th>\n",
       "      <td>P003</td>\n",
       "      <td>ComfortLiving Biography</td>\n",
       "      <td>Books</td>\n",
       "      <td>44.12</td>\n",
       "    </tr>\n",
       "    <tr>\n",
       "      <th>3</th>\n",
       "      <td>P004</td>\n",
       "      <td>BookWorld Rug</td>\n",
       "      <td>Home Decor</td>\n",
       "      <td>95.69</td>\n",
       "    </tr>\n",
       "    <tr>\n",
       "      <th>4</th>\n",
       "      <td>P005</td>\n",
       "      <td>TechPro T-Shirt</td>\n",
       "      <td>Clothing</td>\n",
       "      <td>429.31</td>\n",
       "    </tr>\n",
       "  </tbody>\n",
       "</table>\n",
       "</div>"
      ],
      "text/plain": [
       "  ProductID              ProductName     Category   Price\n",
       "0      P001     ActiveWear Biography        Books  169.30\n",
       "1      P002    ActiveWear Smartwatch  Electronics  346.30\n",
       "2      P003  ComfortLiving Biography        Books   44.12\n",
       "3      P004            BookWorld Rug   Home Decor   95.69\n",
       "4      P005          TechPro T-Shirt     Clothing  429.31"
      ]
     },
     "execution_count": 54,
     "metadata": {},
     "output_type": "execute_result"
    }
   ],
   "source": [
    "products = pd.read_csv(\"Products.csv\")\n",
    "products.head()"
   ]
  },
  {
   "cell_type": "code",
   "execution_count": 56,
   "id": "b0259090-a440-4b7e-97ab-2b13ae3767f3",
   "metadata": {},
   "outputs": [],
   "source": [
    "# Preprocessing customer data\n",
    "def preprocess_customer_data(customers):\n",
    "    customers['SignupDate'] = pd.to_datetime(customers['SignupDate'])\n",
    "    customers['DaysSinceSignup'] = (pd.Timestamp.now() - customers['SignupDate']).dt.days\n",
    "    customers.drop(['CustomerName', 'SignupDate'], axis=1, inplace=True)\n",
    "    return customers\n",
    "\n",
    "# Preprocessing product data\n",
    "def preprocess_product_data(products):\n",
    "    products.drop(['ProductName'], axis=1, inplace=True)\n",
    "    return products\n",
    "\n",
    "customers = preprocess_customer_data(customers)\n",
    "products = preprocess_product_data(products)\n"
   ]
  },
  {
   "cell_type": "code",
   "execution_count": 58,
   "id": "39c4c418-f6ba-4515-a1d2-6f63f74ef079",
   "metadata": {},
   "outputs": [],
   "source": [
    "# Simulating the transaction history\n",
    "transaction_history = pd.DataFrame({\n",
    "    'CustomerID': np.random.choice(customers['CustomerID'], size=1000, replace=True),\n",
    "    'ProductID': np.random.choice(products['ProductID'], size=1000, replace=True)\n",
    "})"
   ]
  },
  {
   "cell_type": "code",
   "execution_count": 60,
   "id": "6f60f410-0fc4-41d4-a08c-4a42e9d644e8",
   "metadata": {},
   "outputs": [],
   "source": [
    "# Joining transactions with product data\n",
    "transaction_data = transaction_history.merge(products, on='ProductID', how='left')"
   ]
  },
  {
   "cell_type": "code",
   "execution_count": 62,
   "id": "683d917d-9149-4f68-96af-dcd7eefacb3f",
   "metadata": {},
   "outputs": [],
   "source": [
    "# Aggregate transaction data by customer\n",
    "customer_product_data = transaction_data.groupby('CustomerID').agg({\n",
    "    'Price': 'mean',\n",
    "    'Category': lambda x: x.mode()[0] if len(x.mode()) > 0 else None\n",
    "}).reset_index()\n"
   ]
  },
  {
   "cell_type": "code",
   "execution_count": 64,
   "id": "384779bc-ba65-48d3-a7af-8e1ec29ba71c",
   "metadata": {},
   "outputs": [],
   "source": [
    "# Merge aggregated transaction data with customer data\n",
    "customer_data = customers.merge(customer_product_data, on='CustomerID', how='left')"
   ]
  },
  {
   "cell_type": "code",
   "execution_count": 66,
   "id": "28a4ea9d-b89a-410d-bb14-25de9b73adcc",
   "metadata": {},
   "outputs": [],
   "source": [
    "# Ensuring missing values are handled\n",
    "customer_data['Price'] = customer_data['Price'].fillna(0)\n",
    "customer_data['Category'] = customer_data['Category'].fillna(\"Unknown\")"
   ]
  },
  {
   "cell_type": "code",
   "execution_count": 68,
   "id": "82e0507e-d332-4019-a149-bb7c59b68c39",
   "metadata": {},
   "outputs": [],
   "source": [
    "# Defining preprocessing pipeline for mixed data types\n",
    "preprocessor = ColumnTransformer(\n",
    "    transformers=[\n",
    "        ('num', Pipeline(steps=[('imputer', SimpleImputer(strategy='mean')), ('scaler', StandardScaler())]), ['DaysSinceSignup', 'Price']),\n",
    "        ('cat', OneHotEncoder(handle_unknown='ignore'), ['Region', 'Category'])\n",
    "    ]\n",
    ")"
   ]
  },
  {
   "cell_type": "code",
   "execution_count": 70,
   "id": "0b018867-31ca-4f48-8d4c-90f49e960fcf",
   "metadata": {},
   "outputs": [],
   "source": [
    "# Preprocessing data\n",
    "customer_features = preprocessor.fit_transform(customer_data)"
   ]
  },
  {
   "cell_type": "code",
   "execution_count": 72,
   "id": "5af7e3c4-f6e6-47ee-bf79-d311b9de3314",
   "metadata": {},
   "outputs": [],
   "source": [
    "# Computing similarity scores using cosine similarity\n",
    "similarity_matrix = cosine_similarity(customer_features)"
   ]
  },
  {
   "cell_type": "code",
   "execution_count": 76,
   "id": "6e8c68db-39fc-44e8-b048-06f435c2be13",
   "metadata": {},
   "outputs": [
    {
     "name": "stdout",
     "output_type": "stream",
     "text": [
      "   CustomerID                                         Lookalikes\n",
      "0       C0001  [('C0184', 0.94), ('C0004', 0.92), ('C0104', 0...\n",
      "1       C0002  [('C0134', 1.0), ('C0162', 0.98), ('C0159', 0....\n",
      "2       C0003  [('C0181', 0.98), ('C0195', 0.97), ('C0052', 0...\n",
      "3       C0004  [('C0184', 0.98), ('C0174', 0.96), ('C0001', 0...\n",
      "4       C0005  [('C0021', 0.84), ('C0173', 0.83), ('C0045', 0...\n",
      "5       C0006  [('C0076', 0.99), ('C0013', 0.98), ('C0137', 0...\n",
      "6       C0007  [('C0161', 0.99), ('C0045', 0.91), ('C0173', 0...\n",
      "7       C0008  [('C0050', 0.97), ('C0189', 0.94), ('C0036', 0...\n",
      "8       C0009  [('C0119', 0.97), ('C0051', 0.95), ('C0170', 0...\n",
      "9       C0010  [('C0141', 0.97), ('C0037', 0.96), ('C0121', 0...\n",
      "10      C0011  [('C0102', 0.98), ('C0071', 0.95), ('C0025', 0...\n",
      "11      C0012  [('C0013', 0.98), ('C0137', 0.94), ('C0006', 0...\n",
      "12      C0013  [('C0137', 0.99), ('C0012', 0.98), ('C0076', 0...\n",
      "13      C0014  [('C0182', 0.97), ('C0089', 0.94), ('C0064', 0...\n",
      "14      C0015  [('C0059', 0.97), ('C0026', 0.97), ('C0020', 0...\n",
      "15      C0016  [('C0072', 0.94), ('C0144', 0.92), ('C0116', 0...\n",
      "16      C0017  [('C0127', 0.97), ('C0111', 0.88), ('C0149', 0...\n",
      "17      C0018  [('C0065', 0.99), ('C0094', 0.81), ('C0024', 0...\n",
      "18      C0019  [('C0075', 0.97), ('C0053', 0.96), ('C0100', 0...\n",
      "19      C0020  [('C0026', 1.0), ('C0059', 0.99), ('C0098', 0....\n"
     ]
    }
   ],
   "source": [
    "# Generating lookalike recommendations for the first 20 customers\n",
    "lookalike_map = {}\n",
    "for idx, customer_id in enumerate(customer_data['CustomerID'][:20]):\n",
    "    similar_indices = similarity_matrix[idx].argsort()[-4:-1][::-1]  # Top 3 similar customers excluding itself\n",
    "    similar_customers = [(customer_data['CustomerID'].iloc[i], round(similarity_matrix[idx, i], 2)) for i in similar_indices]\n",
    "    lookalike_map[customer_id] = similar_customers\n",
    "\n",
    "# Saving lookalike map to CSV\n",
    "lookalike_df = pd.DataFrame([\n",
    "    {'CustomerID': cust_id, 'Lookalikes': str(lookalikes)} for cust_id, lookalikes in lookalike_map.items()\n",
    "])\n",
    "lookalike_df.to_csv('Lookalike.csv', index=False)\n",
    "\n",
    "# Printing the lookalike map\n",
    "print(lookalike_df)"
   ]
  }
 ],
 "metadata": {
  "kernelspec": {
   "display_name": "Python 3 (ipykernel)",
   "language": "python",
   "name": "python3"
  },
  "language_info": {
   "codemirror_mode": {
    "name": "ipython",
    "version": 3
   },
   "file_extension": ".py",
   "mimetype": "text/x-python",
   "name": "python",
   "nbconvert_exporter": "python",
   "pygments_lexer": "ipython3",
   "version": "3.12.4"
  }
 },
 "nbformat": 4,
 "nbformat_minor": 5
}
